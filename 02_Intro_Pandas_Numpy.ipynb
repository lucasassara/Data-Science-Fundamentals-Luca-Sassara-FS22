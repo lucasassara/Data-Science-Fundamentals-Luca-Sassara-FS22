{
  "nbformat": 4,
  "nbformat_minor": 0,
  "metadata": {
    "colab": {
      "name": "02-Intro_Pandas_Numpy.ipynb",
      "provenance": [],
      "collapsed_sections": [],
      "include_colab_link": true
    },
    "kernelspec": {
      "name": "python3",
      "display_name": "Python 3"
    }
  },
  "cells": [
    {
      "cell_type": "markdown",
      "metadata": {
        "id": "view-in-github",
        "colab_type": "text"
      },
      "source": [
        "<a href=\"https://colab.research.google.com/github/lucasassara/Data-Science-Fundamentals-Luca-Sassara-FS22/blob/main/02_Intro_Pandas_Numpy.ipynb\" target=\"_parent\"><img src=\"https://colab.research.google.com/assets/colab-badge.svg\" alt=\"Open In Colab\"/></a>"
      ]
    },
    {
      "cell_type": "markdown",
      "source": [
        "# 1. Pandas and Numpy"
      ],
      "metadata": {
        "id": "1a_Gy0cT_da8"
      }
    },
    {
      "cell_type": "markdown",
      "metadata": {
        "id": "58HlKuYlwfeY"
      },
      "source": [
        "\n",
        "Python has several built-in types of data structures such as lists and dictionaries, but none of them allows you to efficiently do computations on large lists or tables of data. The Numpy and Pandas libraries fill this gap by providing 1) specific data structures on which one can efficiently compute and 2) functions to perform the computations on these structures.\n",
        "\n",
        "Numpy is the core scientific computing library on which virtually all other scientific Python packages are building (except for deep learning libraries). This includes notably Scipy, a package offering numerical routines for optimization, regression etc. that will be used in the last series of lectures.\n",
        "\n",
        "Pandas, which itself builds on top of Numpy, is the core data science library on which higher level libraries (e.g. for plotting) are building. \n",
        "\n",
        "Here we briefly present the main data structure offered by Pandas, the **DataFrame** and then show how the data in DataFrames are actually **arrays**, the main data structure of Numpy. This allows us in the next notebooks to explore Numpy before coming back at the end of the course to Pandas.\n",
        "\n",
        "Let's first import both Pandas and Numpy. Both have very commonly used abbreviations ```np``` and ```pd``` that you should use as well to simplify your life. Note that most sub-modules are directly accessible and you won't have to import specific ones as migth be the case for other libraries."
      ]
    },
    {
      "cell_type": "code",
      "metadata": {
        "id": "Wj9o0gDqvu3i"
      },
      "source": [
        "import pandas as pd\n",
        "import numpy as np"
      ],
      "execution_count": 1,
      "outputs": []
    },
    {
      "cell_type": "markdown",
      "source": [
        "## Importing data"
      ],
      "metadata": {
        "id": "dAJwRYrJ_pQx"
      }
    },
    {
      "cell_type": "markdown",
      "metadata": {
        "id": "daLzb8zpxkGZ"
      },
      "source": [
        "Just like any other library, Pandas offers functionality through the *dot-notation* (as e.g. in ```math.cos()```). When surveying usage of Pandas in places like GitHub, it turns out that the most used function is the one allowing one to import a CSV (comma-separated values). Indeed while we could import tabular data with the ```read``` function, this becomes quickly cumbersome for complex data and Pandas takes care of all details for us. \n"
      ]
    },
    {
      "cell_type": "markdown",
      "metadata": {
        "id": "l7WZpmVl5isP"
      },
      "source": [
        "### read_*** functions\n",
        "\n",
        "As an example we import here the file available [here](https://github.com/KingaS03/Introduction-to-Python/blob/master/Homework/country_vaccinations.xls). If we look at the file we see that even though it has an .xls extension, it is in fact just a CSV file. Pandas has many importing functions and we use here ```read_csv```. You can see the list of all available importers by typing ```pd.read_``` and seeing options from autocomplete.\n",
        "\n",
        "We can either download the file and indicate the file path or directly *read* it from the web (*Note that on GitHub you need to use the [raw](https://raw.githubusercontent.com/KingaS03/Introduction-to-Python/master/Homework/country_vaccinations.xls) version of the file to download it*)"
      ]
    },
    {
      "cell_type": "markdown",
      "source": [
        "```\n",
        "url = 'https://raw.githubusercontent.com/KingaS03/Introduction-to-Python/master/Homework/country_vaccinations.xls'\n",
        "vaccine = pd.read_csv(url)\n",
        "```"
      ],
      "metadata": {
        "id": "xzhJ68RFvwU5"
      }
    },
    {
      "cell_type": "code",
      "source": [
        "url = 'https://raw.githubusercontent.com/KingaS03/Introduction-to-Python/master/Homework/country_vaccinations.xls'\n",
        "vaccine = pd.read_csv(url)"
      ],
      "metadata": {
        "id": "ySb3DYwW6ppr"
      },
      "execution_count": 3,
      "outputs": []
    },
    {
      "cell_type": "markdown",
      "metadata": {
        "id": "mfolWD-P4BBg"
      },
      "source": [
        "Let's first see what this object is:"
      ]
    },
    {
      "cell_type": "markdown",
      "source": [
        "```\n",
        "type(vaccine)\n",
        "```"
      ],
      "metadata": {
        "id": "Pvrppa_M4aNO"
      }
    },
    {
      "cell_type": "code",
      "source": [
        "type(vaccine)"
      ],
      "metadata": {
        "id": "YMJY_ZMM7YBp",
        "colab": {
          "base_uri": "https://localhost:8080/"
        },
        "outputId": "7702b67e-0b4c-4e32-e1e3-4724d410bdef"
      },
      "execution_count": 4,
      "outputs": [
        {
          "output_type": "execute_result",
          "data": {
            "text/plain": [
              "pandas.core.frame.DataFrame"
            ]
          },
          "metadata": {},
          "execution_count": 4
        }
      ]
    },
    {
      "cell_type": "markdown",
      "metadata": {
        "id": "MgHzkxFd4cn4"
      },
      "source": [
        "We see that we are dealing with a DataFrame, the two-dimensional data structure offered by Pandas. If we just execute a cell with that variable we can display the first lines:"
      ]
    },
    {
      "cell_type": "markdown",
      "source": [
        "```\n",
        "vaccine\n",
        "```"
      ],
      "metadata": {
        "id": "ZE700boZ4bDv"
      }
    },
    {
      "cell_type": "code",
      "source": [
        "vaccine"
      ],
      "metadata": {
        "id": "wsCCINAU7FAh",
        "colab": {
          "base_uri": "https://localhost:8080/",
          "height": 748
        },
        "outputId": "351c3425-a47f-4fb6-b929-6285e51e6ae5"
      },
      "execution_count": 5,
      "outputs": [
        {
          "output_type": "execute_result",
          "data": {
            "text/html": [
              "\n",
              "  <div id=\"df-bfab6162-8081-4cbc-b19c-deb21a708960\">\n",
              "    <div class=\"colab-df-container\">\n",
              "      <div>\n",
              "<style scoped>\n",
              "    .dataframe tbody tr th:only-of-type {\n",
              "        vertical-align: middle;\n",
              "    }\n",
              "\n",
              "    .dataframe tbody tr th {\n",
              "        vertical-align: top;\n",
              "    }\n",
              "\n",
              "    .dataframe thead th {\n",
              "        text-align: right;\n",
              "    }\n",
              "</style>\n",
              "<table border=\"1\" class=\"dataframe\">\n",
              "  <thead>\n",
              "    <tr style=\"text-align: right;\">\n",
              "      <th></th>\n",
              "      <th>country</th>\n",
              "      <th>iso_code</th>\n",
              "      <th>date</th>\n",
              "      <th>total_vaccinations</th>\n",
              "      <th>people_vaccinated</th>\n",
              "      <th>people_fully_vaccinated</th>\n",
              "      <th>daily_vaccinations_raw</th>\n",
              "      <th>daily_vaccinations</th>\n",
              "      <th>total_vaccinations_per_hundred</th>\n",
              "      <th>people_vaccinated_per_hundred</th>\n",
              "      <th>people_fully_vaccinated_per_hundred</th>\n",
              "      <th>daily_vaccinations_per_million</th>\n",
              "      <th>vaccines</th>\n",
              "      <th>source_name</th>\n",
              "      <th>source_website</th>\n",
              "    </tr>\n",
              "  </thead>\n",
              "  <tbody>\n",
              "    <tr>\n",
              "      <th>0</th>\n",
              "      <td>Albania</td>\n",
              "      <td>ALB</td>\n",
              "      <td>2021-01-10</td>\n",
              "      <td>0.0</td>\n",
              "      <td>0.0</td>\n",
              "      <td>NaN</td>\n",
              "      <td>NaN</td>\n",
              "      <td>NaN</td>\n",
              "      <td>0.00</td>\n",
              "      <td>0.00</td>\n",
              "      <td>NaN</td>\n",
              "      <td>NaN</td>\n",
              "      <td>Pfizer/BioNTech</td>\n",
              "      <td>Ministry of Health</td>\n",
              "      <td>https://shendetesia.gov.al/covid19-ministria-e...</td>\n",
              "    </tr>\n",
              "    <tr>\n",
              "      <th>1</th>\n",
              "      <td>Albania</td>\n",
              "      <td>ALB</td>\n",
              "      <td>2021-01-11</td>\n",
              "      <td>NaN</td>\n",
              "      <td>NaN</td>\n",
              "      <td>NaN</td>\n",
              "      <td>NaN</td>\n",
              "      <td>64.0</td>\n",
              "      <td>NaN</td>\n",
              "      <td>NaN</td>\n",
              "      <td>NaN</td>\n",
              "      <td>22.0</td>\n",
              "      <td>Pfizer/BioNTech</td>\n",
              "      <td>Ministry of Health</td>\n",
              "      <td>https://shendetesia.gov.al/covid19-ministria-e...</td>\n",
              "    </tr>\n",
              "    <tr>\n",
              "      <th>2</th>\n",
              "      <td>Albania</td>\n",
              "      <td>ALB</td>\n",
              "      <td>2021-01-12</td>\n",
              "      <td>128.0</td>\n",
              "      <td>128.0</td>\n",
              "      <td>NaN</td>\n",
              "      <td>NaN</td>\n",
              "      <td>64.0</td>\n",
              "      <td>0.00</td>\n",
              "      <td>0.00</td>\n",
              "      <td>NaN</td>\n",
              "      <td>22.0</td>\n",
              "      <td>Pfizer/BioNTech</td>\n",
              "      <td>Ministry of Health</td>\n",
              "      <td>https://shendetesia.gov.al/covid19-ministria-e...</td>\n",
              "    </tr>\n",
              "    <tr>\n",
              "      <th>3</th>\n",
              "      <td>Albania</td>\n",
              "      <td>ALB</td>\n",
              "      <td>2021-01-13</td>\n",
              "      <td>188.0</td>\n",
              "      <td>188.0</td>\n",
              "      <td>NaN</td>\n",
              "      <td>60.0</td>\n",
              "      <td>63.0</td>\n",
              "      <td>0.01</td>\n",
              "      <td>0.01</td>\n",
              "      <td>NaN</td>\n",
              "      <td>22.0</td>\n",
              "      <td>Pfizer/BioNTech</td>\n",
              "      <td>Ministry of Health</td>\n",
              "      <td>https://shendetesia.gov.al/covid19-ministria-e...</td>\n",
              "    </tr>\n",
              "    <tr>\n",
              "      <th>4</th>\n",
              "      <td>Albania</td>\n",
              "      <td>ALB</td>\n",
              "      <td>2021-01-14</td>\n",
              "      <td>266.0</td>\n",
              "      <td>266.0</td>\n",
              "      <td>NaN</td>\n",
              "      <td>78.0</td>\n",
              "      <td>66.0</td>\n",
              "      <td>0.01</td>\n",
              "      <td>0.01</td>\n",
              "      <td>NaN</td>\n",
              "      <td>23.0</td>\n",
              "      <td>Pfizer/BioNTech</td>\n",
              "      <td>Ministry of Health</td>\n",
              "      <td>https://shendetesia.gov.al/covid19-ministria-e...</td>\n",
              "    </tr>\n",
              "    <tr>\n",
              "      <th>...</th>\n",
              "      <td>...</td>\n",
              "      <td>...</td>\n",
              "      <td>...</td>\n",
              "      <td>...</td>\n",
              "      <td>...</td>\n",
              "      <td>...</td>\n",
              "      <td>...</td>\n",
              "      <td>...</td>\n",
              "      <td>...</td>\n",
              "      <td>...</td>\n",
              "      <td>...</td>\n",
              "      <td>...</td>\n",
              "      <td>...</td>\n",
              "      <td>...</td>\n",
              "      <td>...</td>\n",
              "    </tr>\n",
              "    <tr>\n",
              "      <th>3614</th>\n",
              "      <td>Wales</td>\n",
              "      <td>NaN</td>\n",
              "      <td>2021-02-15</td>\n",
              "      <td>803178.0</td>\n",
              "      <td>795927.0</td>\n",
              "      <td>7251.0</td>\n",
              "      <td>12967.0</td>\n",
              "      <td>24418.0</td>\n",
              "      <td>25.47</td>\n",
              "      <td>25.24</td>\n",
              "      <td>0.23</td>\n",
              "      <td>7745.0</td>\n",
              "      <td>Oxford/AstraZeneca, Pfizer/BioNTech</td>\n",
              "      <td>Government of the United Kingdom</td>\n",
              "      <td>https://coronavirus.data.gov.uk/details/health...</td>\n",
              "    </tr>\n",
              "    <tr>\n",
              "      <th>3615</th>\n",
              "      <td>Wales</td>\n",
              "      <td>NaN</td>\n",
              "      <td>2021-02-16</td>\n",
              "      <td>820339.0</td>\n",
              "      <td>807351.0</td>\n",
              "      <td>12988.0</td>\n",
              "      <td>17161.0</td>\n",
              "      <td>23033.0</td>\n",
              "      <td>26.02</td>\n",
              "      <td>25.61</td>\n",
              "      <td>0.41</td>\n",
              "      <td>7305.0</td>\n",
              "      <td>Oxford/AstraZeneca, Pfizer/BioNTech</td>\n",
              "      <td>Government of the United Kingdom</td>\n",
              "      <td>https://coronavirus.data.gov.uk/details/health...</td>\n",
              "    </tr>\n",
              "    <tr>\n",
              "      <th>3616</th>\n",
              "      <td>Wales</td>\n",
              "      <td>NaN</td>\n",
              "      <td>2021-02-17</td>\n",
              "      <td>841975.0</td>\n",
              "      <td>822633.0</td>\n",
              "      <td>19342.0</td>\n",
              "      <td>21636.0</td>\n",
              "      <td>22012.0</td>\n",
              "      <td>26.70</td>\n",
              "      <td>26.09</td>\n",
              "      <td>0.61</td>\n",
              "      <td>6982.0</td>\n",
              "      <td>Oxford/AstraZeneca, Pfizer/BioNTech</td>\n",
              "      <td>Government of the United Kingdom</td>\n",
              "      <td>https://coronavirus.data.gov.uk/details/health...</td>\n",
              "    </tr>\n",
              "    <tr>\n",
              "      <th>3617</th>\n",
              "      <td>Wales</td>\n",
              "      <td>NaN</td>\n",
              "      <td>2021-02-18</td>\n",
              "      <td>864498.0</td>\n",
              "      <td>839065.0</td>\n",
              "      <td>25433.0</td>\n",
              "      <td>22523.0</td>\n",
              "      <td>20649.0</td>\n",
              "      <td>27.42</td>\n",
              "      <td>26.61</td>\n",
              "      <td>0.81</td>\n",
              "      <td>6549.0</td>\n",
              "      <td>Oxford/AstraZeneca, Pfizer/BioNTech</td>\n",
              "      <td>Government of the United Kingdom</td>\n",
              "      <td>https://coronavirus.data.gov.uk/details/health...</td>\n",
              "    </tr>\n",
              "    <tr>\n",
              "      <th>3618</th>\n",
              "      <td>Wales</td>\n",
              "      <td>NaN</td>\n",
              "      <td>2021-02-19</td>\n",
              "      <td>885906.0</td>\n",
              "      <td>853904.0</td>\n",
              "      <td>32002.0</td>\n",
              "      <td>21408.0</td>\n",
              "      <td>18891.0</td>\n",
              "      <td>28.10</td>\n",
              "      <td>27.08</td>\n",
              "      <td>1.02</td>\n",
              "      <td>5992.0</td>\n",
              "      <td>Oxford/AstraZeneca, Pfizer/BioNTech</td>\n",
              "      <td>Government of the United Kingdom</td>\n",
              "      <td>https://coronavirus.data.gov.uk/details/health...</td>\n",
              "    </tr>\n",
              "  </tbody>\n",
              "</table>\n",
              "<p>3619 rows × 15 columns</p>\n",
              "</div>\n",
              "      <button class=\"colab-df-convert\" onclick=\"convertToInteractive('df-bfab6162-8081-4cbc-b19c-deb21a708960')\"\n",
              "              title=\"Convert this dataframe to an interactive table.\"\n",
              "              style=\"display:none;\">\n",
              "        \n",
              "  <svg xmlns=\"http://www.w3.org/2000/svg\" height=\"24px\"viewBox=\"0 0 24 24\"\n",
              "       width=\"24px\">\n",
              "    <path d=\"M0 0h24v24H0V0z\" fill=\"none\"/>\n",
              "    <path d=\"M18.56 5.44l.94 2.06.94-2.06 2.06-.94-2.06-.94-.94-2.06-.94 2.06-2.06.94zm-11 1L8.5 8.5l.94-2.06 2.06-.94-2.06-.94L8.5 2.5l-.94 2.06-2.06.94zm10 10l.94 2.06.94-2.06 2.06-.94-2.06-.94-.94-2.06-.94 2.06-2.06.94z\"/><path d=\"M17.41 7.96l-1.37-1.37c-.4-.4-.92-.59-1.43-.59-.52 0-1.04.2-1.43.59L10.3 9.45l-7.72 7.72c-.78.78-.78 2.05 0 2.83L4 21.41c.39.39.9.59 1.41.59.51 0 1.02-.2 1.41-.59l7.78-7.78 2.81-2.81c.8-.78.8-2.07 0-2.86zM5.41 20L4 18.59l7.72-7.72 1.47 1.35L5.41 20z\"/>\n",
              "  </svg>\n",
              "      </button>\n",
              "      \n",
              "  <style>\n",
              "    .colab-df-container {\n",
              "      display:flex;\n",
              "      flex-wrap:wrap;\n",
              "      gap: 12px;\n",
              "    }\n",
              "\n",
              "    .colab-df-convert {\n",
              "      background-color: #E8F0FE;\n",
              "      border: none;\n",
              "      border-radius: 50%;\n",
              "      cursor: pointer;\n",
              "      display: none;\n",
              "      fill: #1967D2;\n",
              "      height: 32px;\n",
              "      padding: 0 0 0 0;\n",
              "      width: 32px;\n",
              "    }\n",
              "\n",
              "    .colab-df-convert:hover {\n",
              "      background-color: #E2EBFA;\n",
              "      box-shadow: 0px 1px 2px rgba(60, 64, 67, 0.3), 0px 1px 3px 1px rgba(60, 64, 67, 0.15);\n",
              "      fill: #174EA6;\n",
              "    }\n",
              "\n",
              "    [theme=dark] .colab-df-convert {\n",
              "      background-color: #3B4455;\n",
              "      fill: #D2E3FC;\n",
              "    }\n",
              "\n",
              "    [theme=dark] .colab-df-convert:hover {\n",
              "      background-color: #434B5C;\n",
              "      box-shadow: 0px 1px 3px 1px rgba(0, 0, 0, 0.15);\n",
              "      filter: drop-shadow(0px 1px 2px rgba(0, 0, 0, 0.3));\n",
              "      fill: #FFFFFF;\n",
              "    }\n",
              "  </style>\n",
              "\n",
              "      <script>\n",
              "        const buttonEl =\n",
              "          document.querySelector('#df-bfab6162-8081-4cbc-b19c-deb21a708960 button.colab-df-convert');\n",
              "        buttonEl.style.display =\n",
              "          google.colab.kernel.accessAllowed ? 'block' : 'none';\n",
              "\n",
              "        async function convertToInteractive(key) {\n",
              "          const element = document.querySelector('#df-bfab6162-8081-4cbc-b19c-deb21a708960');\n",
              "          const dataTable =\n",
              "            await google.colab.kernel.invokeFunction('convertToInteractive',\n",
              "                                                     [key], {});\n",
              "          if (!dataTable) return;\n",
              "\n",
              "          const docLinkHtml = 'Like what you see? Visit the ' +\n",
              "            '<a target=\"_blank\" href=https://colab.research.google.com/notebooks/data_table.ipynb>data table notebook</a>'\n",
              "            + ' to learn more about interactive tables.';\n",
              "          element.innerHTML = '';\n",
              "          dataTable['output_type'] = 'display_data';\n",
              "          await google.colab.output.renderOutput(dataTable, element);\n",
              "          const docLink = document.createElement('div');\n",
              "          docLink.innerHTML = docLinkHtml;\n",
              "          element.appendChild(docLink);\n",
              "        }\n",
              "      </script>\n",
              "    </div>\n",
              "  </div>\n",
              "  "
            ],
            "text/plain": [
              "      country  ...                                     source_website\n",
              "0     Albania  ...  https://shendetesia.gov.al/covid19-ministria-e...\n",
              "1     Albania  ...  https://shendetesia.gov.al/covid19-ministria-e...\n",
              "2     Albania  ...  https://shendetesia.gov.al/covid19-ministria-e...\n",
              "3     Albania  ...  https://shendetesia.gov.al/covid19-ministria-e...\n",
              "4     Albania  ...  https://shendetesia.gov.al/covid19-ministria-e...\n",
              "...       ...  ...                                                ...\n",
              "3614    Wales  ...  https://coronavirus.data.gov.uk/details/health...\n",
              "3615    Wales  ...  https://coronavirus.data.gov.uk/details/health...\n",
              "3616    Wales  ...  https://coronavirus.data.gov.uk/details/health...\n",
              "3617    Wales  ...  https://coronavirus.data.gov.uk/details/health...\n",
              "3618    Wales  ...  https://coronavirus.data.gov.uk/details/health...\n",
              "\n",
              "[3619 rows x 15 columns]"
            ]
          },
          "metadata": {},
          "execution_count": 5
        }
      ]
    },
    {
      "cell_type": "markdown",
      "metadata": {
        "id": "cJJ81NGK42fG"
      },
      "source": [
        "We see that we are dealing with tabular data of various types: we have text (e.g. countries), dates and numbers. Just like in a tabular sheet, each column has a label and each line has an index (column in bold on the left), so that every element can be located with these *coordinates*.\n",
        "\n",
        "## Methods attached to dataframes\n",
        "\n",
        "We have seen before that every variable in Python has a series of functions attached to it (methods). For example if we have a text variable (string) we can e.g. split it at a given place:"
      ]
    },
    {
      "cell_type": "markdown",
      "source": [
        "```\n",
        "my_string = 'This is a sentence with spaces.'\n",
        "my_string.split(' ')\n",
        "```"
      ],
      "metadata": {
        "id": "8Agw1WO14wYu"
      }
    },
    {
      "cell_type": "code",
      "source": [
        "text = 'I love refrigerators.'\n",
        "text.split(' ')\n"
      ],
      "metadata": {
        "id": "2_zTrIod7qOA",
        "colab": {
          "base_uri": "https://localhost:8080/"
        },
        "outputId": "06c1c206-cd17-43cd-8311-7560387c9728"
      },
      "execution_count": 7,
      "outputs": [
        {
          "output_type": "execute_result",
          "data": {
            "text/plain": [
              "['I', 'love', 'refrigerators.']"
            ]
          },
          "metadata": {},
          "execution_count": 7
        }
      ]
    },
    {
      "cell_type": "markdown",
      "metadata": {
        "id": "CgSGrjzZ6JtO"
      },
      "source": [
        "The same logic applies to Pandas DataFrames and in general to any new variable that is created by a given package: they all come with a series of methods attached to them.\n",
        "\n",
        "For example if we only want to display the fist 5 lines of the DataFrame, we can use the ```head``` method:"
      ]
    },
    {
      "cell_type": "markdown",
      "source": [
        "vaccine.head(5)"
      ],
      "metadata": {
        "id": "8V5lYBN85_TO"
      }
    },
    {
      "cell_type": "code",
      "source": [
        "vaccine.head(3)"
      ],
      "metadata": {
        "id": "wE3u7Htm86Y0",
        "colab": {
          "base_uri": "https://localhost:8080/",
          "height": 260
        },
        "outputId": "cce846e5-8989-4141-be97-70b17ca0f067"
      },
      "execution_count": 8,
      "outputs": [
        {
          "output_type": "execute_result",
          "data": {
            "text/html": [
              "\n",
              "  <div id=\"df-6bb79a74-fd46-4258-b98e-d6ec5d15938f\">\n",
              "    <div class=\"colab-df-container\">\n",
              "      <div>\n",
              "<style scoped>\n",
              "    .dataframe tbody tr th:only-of-type {\n",
              "        vertical-align: middle;\n",
              "    }\n",
              "\n",
              "    .dataframe tbody tr th {\n",
              "        vertical-align: top;\n",
              "    }\n",
              "\n",
              "    .dataframe thead th {\n",
              "        text-align: right;\n",
              "    }\n",
              "</style>\n",
              "<table border=\"1\" class=\"dataframe\">\n",
              "  <thead>\n",
              "    <tr style=\"text-align: right;\">\n",
              "      <th></th>\n",
              "      <th>country</th>\n",
              "      <th>iso_code</th>\n",
              "      <th>date</th>\n",
              "      <th>total_vaccinations</th>\n",
              "      <th>people_vaccinated</th>\n",
              "      <th>people_fully_vaccinated</th>\n",
              "      <th>daily_vaccinations_raw</th>\n",
              "      <th>daily_vaccinations</th>\n",
              "      <th>total_vaccinations_per_hundred</th>\n",
              "      <th>people_vaccinated_per_hundred</th>\n",
              "      <th>people_fully_vaccinated_per_hundred</th>\n",
              "      <th>daily_vaccinations_per_million</th>\n",
              "      <th>vaccines</th>\n",
              "      <th>source_name</th>\n",
              "      <th>source_website</th>\n",
              "    </tr>\n",
              "  </thead>\n",
              "  <tbody>\n",
              "    <tr>\n",
              "      <th>0</th>\n",
              "      <td>Albania</td>\n",
              "      <td>ALB</td>\n",
              "      <td>2021-01-10</td>\n",
              "      <td>0.0</td>\n",
              "      <td>0.0</td>\n",
              "      <td>NaN</td>\n",
              "      <td>NaN</td>\n",
              "      <td>NaN</td>\n",
              "      <td>0.0</td>\n",
              "      <td>0.0</td>\n",
              "      <td>NaN</td>\n",
              "      <td>NaN</td>\n",
              "      <td>Pfizer/BioNTech</td>\n",
              "      <td>Ministry of Health</td>\n",
              "      <td>https://shendetesia.gov.al/covid19-ministria-e...</td>\n",
              "    </tr>\n",
              "    <tr>\n",
              "      <th>1</th>\n",
              "      <td>Albania</td>\n",
              "      <td>ALB</td>\n",
              "      <td>2021-01-11</td>\n",
              "      <td>NaN</td>\n",
              "      <td>NaN</td>\n",
              "      <td>NaN</td>\n",
              "      <td>NaN</td>\n",
              "      <td>64.0</td>\n",
              "      <td>NaN</td>\n",
              "      <td>NaN</td>\n",
              "      <td>NaN</td>\n",
              "      <td>22.0</td>\n",
              "      <td>Pfizer/BioNTech</td>\n",
              "      <td>Ministry of Health</td>\n",
              "      <td>https://shendetesia.gov.al/covid19-ministria-e...</td>\n",
              "    </tr>\n",
              "    <tr>\n",
              "      <th>2</th>\n",
              "      <td>Albania</td>\n",
              "      <td>ALB</td>\n",
              "      <td>2021-01-12</td>\n",
              "      <td>128.0</td>\n",
              "      <td>128.0</td>\n",
              "      <td>NaN</td>\n",
              "      <td>NaN</td>\n",
              "      <td>64.0</td>\n",
              "      <td>0.0</td>\n",
              "      <td>0.0</td>\n",
              "      <td>NaN</td>\n",
              "      <td>22.0</td>\n",
              "      <td>Pfizer/BioNTech</td>\n",
              "      <td>Ministry of Health</td>\n",
              "      <td>https://shendetesia.gov.al/covid19-ministria-e...</td>\n",
              "    </tr>\n",
              "  </tbody>\n",
              "</table>\n",
              "</div>\n",
              "      <button class=\"colab-df-convert\" onclick=\"convertToInteractive('df-6bb79a74-fd46-4258-b98e-d6ec5d15938f')\"\n",
              "              title=\"Convert this dataframe to an interactive table.\"\n",
              "              style=\"display:none;\">\n",
              "        \n",
              "  <svg xmlns=\"http://www.w3.org/2000/svg\" height=\"24px\"viewBox=\"0 0 24 24\"\n",
              "       width=\"24px\">\n",
              "    <path d=\"M0 0h24v24H0V0z\" fill=\"none\"/>\n",
              "    <path d=\"M18.56 5.44l.94 2.06.94-2.06 2.06-.94-2.06-.94-.94-2.06-.94 2.06-2.06.94zm-11 1L8.5 8.5l.94-2.06 2.06-.94-2.06-.94L8.5 2.5l-.94 2.06-2.06.94zm10 10l.94 2.06.94-2.06 2.06-.94-2.06-.94-.94-2.06-.94 2.06-2.06.94z\"/><path d=\"M17.41 7.96l-1.37-1.37c-.4-.4-.92-.59-1.43-.59-.52 0-1.04.2-1.43.59L10.3 9.45l-7.72 7.72c-.78.78-.78 2.05 0 2.83L4 21.41c.39.39.9.59 1.41.59.51 0 1.02-.2 1.41-.59l7.78-7.78 2.81-2.81c.8-.78.8-2.07 0-2.86zM5.41 20L4 18.59l7.72-7.72 1.47 1.35L5.41 20z\"/>\n",
              "  </svg>\n",
              "      </button>\n",
              "      \n",
              "  <style>\n",
              "    .colab-df-container {\n",
              "      display:flex;\n",
              "      flex-wrap:wrap;\n",
              "      gap: 12px;\n",
              "    }\n",
              "\n",
              "    .colab-df-convert {\n",
              "      background-color: #E8F0FE;\n",
              "      border: none;\n",
              "      border-radius: 50%;\n",
              "      cursor: pointer;\n",
              "      display: none;\n",
              "      fill: #1967D2;\n",
              "      height: 32px;\n",
              "      padding: 0 0 0 0;\n",
              "      width: 32px;\n",
              "    }\n",
              "\n",
              "    .colab-df-convert:hover {\n",
              "      background-color: #E2EBFA;\n",
              "      box-shadow: 0px 1px 2px rgba(60, 64, 67, 0.3), 0px 1px 3px 1px rgba(60, 64, 67, 0.15);\n",
              "      fill: #174EA6;\n",
              "    }\n",
              "\n",
              "    [theme=dark] .colab-df-convert {\n",
              "      background-color: #3B4455;\n",
              "      fill: #D2E3FC;\n",
              "    }\n",
              "\n",
              "    [theme=dark] .colab-df-convert:hover {\n",
              "      background-color: #434B5C;\n",
              "      box-shadow: 0px 1px 3px 1px rgba(0, 0, 0, 0.15);\n",
              "      filter: drop-shadow(0px 1px 2px rgba(0, 0, 0, 0.3));\n",
              "      fill: #FFFFFF;\n",
              "    }\n",
              "  </style>\n",
              "\n",
              "      <script>\n",
              "        const buttonEl =\n",
              "          document.querySelector('#df-6bb79a74-fd46-4258-b98e-d6ec5d15938f button.colab-df-convert');\n",
              "        buttonEl.style.display =\n",
              "          google.colab.kernel.accessAllowed ? 'block' : 'none';\n",
              "\n",
              "        async function convertToInteractive(key) {\n",
              "          const element = document.querySelector('#df-6bb79a74-fd46-4258-b98e-d6ec5d15938f');\n",
              "          const dataTable =\n",
              "            await google.colab.kernel.invokeFunction('convertToInteractive',\n",
              "                                                     [key], {});\n",
              "          if (!dataTable) return;\n",
              "\n",
              "          const docLinkHtml = 'Like what you see? Visit the ' +\n",
              "            '<a target=\"_blank\" href=https://colab.research.google.com/notebooks/data_table.ipynb>data table notebook</a>'\n",
              "            + ' to learn more about interactive tables.';\n",
              "          element.innerHTML = '';\n",
              "          dataTable['output_type'] = 'display_data';\n",
              "          await google.colab.output.renderOutput(dataTable, element);\n",
              "          const docLink = document.createElement('div');\n",
              "          docLink.innerHTML = docLinkHtml;\n",
              "          element.appendChild(docLink);\n",
              "        }\n",
              "      </script>\n",
              "    </div>\n",
              "  </div>\n",
              "  "
            ],
            "text/plain": [
              "   country  ...                                     source_website\n",
              "0  Albania  ...  https://shendetesia.gov.al/covid19-ministria-e...\n",
              "1  Albania  ...  https://shendetesia.gov.al/covid19-ministria-e...\n",
              "2  Albania  ...  https://shendetesia.gov.al/covid19-ministria-e...\n",
              "\n",
              "[3 rows x 15 columns]"
            ]
          },
          "metadata": {},
          "execution_count": 8
        }
      ]
    },
    {
      "cell_type": "markdown",
      "metadata": {
        "id": "BNuROR_d6htS"
      },
      "source": [
        "We will learn later how to extract statistics, but just as an example of functions that exsit, you can for example get a basic statistical description of a DataFrame using the ```describe``` method:"
      ]
    },
    {
      "cell_type": "markdown",
      "source": [
        "vaccine.describe()"
      ],
      "metadata": {
        "id": "1UT83ZNq6Uzy"
      }
    },
    {
      "cell_type": "code",
      "source": [
        "vaccine.describe()"
      ],
      "metadata": {
        "id": "7YyRNIC68_H6",
        "colab": {
          "base_uri": "https://localhost:8080/",
          "height": 364
        },
        "outputId": "369d7652-8c2c-4375-bd85-78a73a75fed6"
      },
      "execution_count": 9,
      "outputs": [
        {
          "output_type": "execute_result",
          "data": {
            "text/html": [
              "\n",
              "  <div id=\"df-9ac57041-6414-4fc7-949e-f7860a4f4656\">\n",
              "    <div class=\"colab-df-container\">\n",
              "      <div>\n",
              "<style scoped>\n",
              "    .dataframe tbody tr th:only-of-type {\n",
              "        vertical-align: middle;\n",
              "    }\n",
              "\n",
              "    .dataframe tbody tr th {\n",
              "        vertical-align: top;\n",
              "    }\n",
              "\n",
              "    .dataframe thead th {\n",
              "        text-align: right;\n",
              "    }\n",
              "</style>\n",
              "<table border=\"1\" class=\"dataframe\">\n",
              "  <thead>\n",
              "    <tr style=\"text-align: right;\">\n",
              "      <th></th>\n",
              "      <th>total_vaccinations</th>\n",
              "      <th>people_vaccinated</th>\n",
              "      <th>people_fully_vaccinated</th>\n",
              "      <th>daily_vaccinations_raw</th>\n",
              "      <th>daily_vaccinations</th>\n",
              "      <th>total_vaccinations_per_hundred</th>\n",
              "      <th>people_vaccinated_per_hundred</th>\n",
              "      <th>people_fully_vaccinated_per_hundred</th>\n",
              "      <th>daily_vaccinations_per_million</th>\n",
              "    </tr>\n",
              "  </thead>\n",
              "  <tbody>\n",
              "    <tr>\n",
              "      <th>count</th>\n",
              "      <td>2.393000e+03</td>\n",
              "      <td>1.981000e+03</td>\n",
              "      <td>1.324000e+03</td>\n",
              "      <td>2.019000e+03</td>\n",
              "      <td>3.483000e+03</td>\n",
              "      <td>2393.000000</td>\n",
              "      <td>1981.000000</td>\n",
              "      <td>1324.000000</td>\n",
              "      <td>3483.000000</td>\n",
              "    </tr>\n",
              "    <tr>\n",
              "      <th>mean</th>\n",
              "      <td>1.521028e+06</td>\n",
              "      <td>1.269657e+06</td>\n",
              "      <td>3.888861e+05</td>\n",
              "      <td>7.453608e+04</td>\n",
              "      <td>5.754796e+04</td>\n",
              "      <td>6.174785</td>\n",
              "      <td>5.243503</td>\n",
              "      <td>1.807364</td>\n",
              "      <td>2279.315820</td>\n",
              "    </tr>\n",
              "    <tr>\n",
              "      <th>std</th>\n",
              "      <td>5.038410e+06</td>\n",
              "      <td>4.148487e+06</td>\n",
              "      <td>1.476223e+06</td>\n",
              "      <td>2.065813e+05</td>\n",
              "      <td>1.784900e+05</td>\n",
              "      <td>11.530328</td>\n",
              "      <td>8.593589</td>\n",
              "      <td>4.604362</td>\n",
              "      <td>3788.432525</td>\n",
              "    </tr>\n",
              "    <tr>\n",
              "      <th>min</th>\n",
              "      <td>0.000000e+00</td>\n",
              "      <td>0.000000e+00</td>\n",
              "      <td>1.000000e+00</td>\n",
              "      <td>-5.001200e+04</td>\n",
              "      <td>1.000000e+00</td>\n",
              "      <td>0.000000</td>\n",
              "      <td>0.000000</td>\n",
              "      <td>0.000000</td>\n",
              "      <td>0.000000</td>\n",
              "    </tr>\n",
              "    <tr>\n",
              "      <th>25%</th>\n",
              "      <td>2.989300e+04</td>\n",
              "      <td>2.702000e+04</td>\n",
              "      <td>8.366000e+03</td>\n",
              "      <td>2.021000e+03</td>\n",
              "      <td>1.207500e+03</td>\n",
              "      <td>0.590000</td>\n",
              "      <td>0.610000</td>\n",
              "      <td>0.130000</td>\n",
              "      <td>349.000000</td>\n",
              "    </tr>\n",
              "    <tr>\n",
              "      <th>50%</th>\n",
              "      <td>1.917820e+05</td>\n",
              "      <td>1.694400e+05</td>\n",
              "      <td>3.395450e+04</td>\n",
              "      <td>1.164200e+04</td>\n",
              "      <td>6.081000e+03</td>\n",
              "      <td>2.420000</td>\n",
              "      <td>2.370000</td>\n",
              "      <td>0.720000</td>\n",
              "      <td>1039.000000</td>\n",
              "    </tr>\n",
              "    <tr>\n",
              "      <th>75%</th>\n",
              "      <td>7.689500e+05</td>\n",
              "      <td>6.324390e+05</td>\n",
              "      <td>1.947678e+05</td>\n",
              "      <td>5.658950e+04</td>\n",
              "      <td>2.922500e+04</td>\n",
              "      <td>5.570000</td>\n",
              "      <td>4.430000</td>\n",
              "      <td>1.512500</td>\n",
              "      <td>1978.000000</td>\n",
              "    </tr>\n",
              "    <tr>\n",
              "      <th>max</th>\n",
              "      <td>6.128950e+07</td>\n",
              "      <td>4.280960e+07</td>\n",
              "      <td>1.789567e+07</td>\n",
              "      <td>2.242472e+06</td>\n",
              "      <td>1.916190e+06</td>\n",
              "      <td>87.070000</td>\n",
              "      <td>49.750000</td>\n",
              "      <td>37.320000</td>\n",
              "      <td>30869.000000</td>\n",
              "    </tr>\n",
              "  </tbody>\n",
              "</table>\n",
              "</div>\n",
              "      <button class=\"colab-df-convert\" onclick=\"convertToInteractive('df-9ac57041-6414-4fc7-949e-f7860a4f4656')\"\n",
              "              title=\"Convert this dataframe to an interactive table.\"\n",
              "              style=\"display:none;\">\n",
              "        \n",
              "  <svg xmlns=\"http://www.w3.org/2000/svg\" height=\"24px\"viewBox=\"0 0 24 24\"\n",
              "       width=\"24px\">\n",
              "    <path d=\"M0 0h24v24H0V0z\" fill=\"none\"/>\n",
              "    <path d=\"M18.56 5.44l.94 2.06.94-2.06 2.06-.94-2.06-.94-.94-2.06-.94 2.06-2.06.94zm-11 1L8.5 8.5l.94-2.06 2.06-.94-2.06-.94L8.5 2.5l-.94 2.06-2.06.94zm10 10l.94 2.06.94-2.06 2.06-.94-2.06-.94-.94-2.06-.94 2.06-2.06.94z\"/><path d=\"M17.41 7.96l-1.37-1.37c-.4-.4-.92-.59-1.43-.59-.52 0-1.04.2-1.43.59L10.3 9.45l-7.72 7.72c-.78.78-.78 2.05 0 2.83L4 21.41c.39.39.9.59 1.41.59.51 0 1.02-.2 1.41-.59l7.78-7.78 2.81-2.81c.8-.78.8-2.07 0-2.86zM5.41 20L4 18.59l7.72-7.72 1.47 1.35L5.41 20z\"/>\n",
              "  </svg>\n",
              "      </button>\n",
              "      \n",
              "  <style>\n",
              "    .colab-df-container {\n",
              "      display:flex;\n",
              "      flex-wrap:wrap;\n",
              "      gap: 12px;\n",
              "    }\n",
              "\n",
              "    .colab-df-convert {\n",
              "      background-color: #E8F0FE;\n",
              "      border: none;\n",
              "      border-radius: 50%;\n",
              "      cursor: pointer;\n",
              "      display: none;\n",
              "      fill: #1967D2;\n",
              "      height: 32px;\n",
              "      padding: 0 0 0 0;\n",
              "      width: 32px;\n",
              "    }\n",
              "\n",
              "    .colab-df-convert:hover {\n",
              "      background-color: #E2EBFA;\n",
              "      box-shadow: 0px 1px 2px rgba(60, 64, 67, 0.3), 0px 1px 3px 1px rgba(60, 64, 67, 0.15);\n",
              "      fill: #174EA6;\n",
              "    }\n",
              "\n",
              "    [theme=dark] .colab-df-convert {\n",
              "      background-color: #3B4455;\n",
              "      fill: #D2E3FC;\n",
              "    }\n",
              "\n",
              "    [theme=dark] .colab-df-convert:hover {\n",
              "      background-color: #434B5C;\n",
              "      box-shadow: 0px 1px 3px 1px rgba(0, 0, 0, 0.15);\n",
              "      filter: drop-shadow(0px 1px 2px rgba(0, 0, 0, 0.3));\n",
              "      fill: #FFFFFF;\n",
              "    }\n",
              "  </style>\n",
              "\n",
              "      <script>\n",
              "        const buttonEl =\n",
              "          document.querySelector('#df-9ac57041-6414-4fc7-949e-f7860a4f4656 button.colab-df-convert');\n",
              "        buttonEl.style.display =\n",
              "          google.colab.kernel.accessAllowed ? 'block' : 'none';\n",
              "\n",
              "        async function convertToInteractive(key) {\n",
              "          const element = document.querySelector('#df-9ac57041-6414-4fc7-949e-f7860a4f4656');\n",
              "          const dataTable =\n",
              "            await google.colab.kernel.invokeFunction('convertToInteractive',\n",
              "                                                     [key], {});\n",
              "          if (!dataTable) return;\n",
              "\n",
              "          const docLinkHtml = 'Like what you see? Visit the ' +\n",
              "            '<a target=\"_blank\" href=https://colab.research.google.com/notebooks/data_table.ipynb>data table notebook</a>'\n",
              "            + ' to learn more about interactive tables.';\n",
              "          element.innerHTML = '';\n",
              "          dataTable['output_type'] = 'display_data';\n",
              "          await google.colab.output.renderOutput(dataTable, element);\n",
              "          const docLink = document.createElement('div');\n",
              "          docLink.innerHTML = docLinkHtml;\n",
              "          element.appendChild(docLink);\n",
              "        }\n",
              "      </script>\n",
              "    </div>\n",
              "  </div>\n",
              "  "
            ],
            "text/plain": [
              "       total_vaccinations  ...  daily_vaccinations_per_million\n",
              "count        2.393000e+03  ...                     3483.000000\n",
              "mean         1.521028e+06  ...                     2279.315820\n",
              "std          5.038410e+06  ...                     3788.432525\n",
              "min          0.000000e+00  ...                        0.000000\n",
              "25%          2.989300e+04  ...                      349.000000\n",
              "50%          1.917820e+05  ...                     1039.000000\n",
              "75%          7.689500e+05  ...                     1978.000000\n",
              "max          6.128950e+07  ...                    30869.000000\n",
              "\n",
              "[8 rows x 9 columns]"
            ]
          },
          "metadata": {},
          "execution_count": 9
        }
      ]
    },
    {
      "cell_type": "markdown",
      "metadata": {
        "id": "6gQcF8NQ6uZe"
      },
      "source": [
        "We see that in this particular case, the returned object is a DataFrame as well!\n",
        "\n",
        "## Accessing columns\n",
        "\n",
        "If we want to work with only a given column from a dataframe, we can extract it. Just like when we want to extract an element from a regular list, e.g. ```my_list[3]```, for Pandas we also use the square parenthesis (brackets) but this time with the name of the column:"
      ]
    },
    {
      "cell_type": "markdown",
      "source": [
        "```\n",
        "some_column = vaccine['daily_vaccinations']\n",
        "some_column\n",
        "```"
      ],
      "metadata": {
        "id": "GBOj3B5r6giA"
      }
    },
    {
      "cell_type": "code",
      "source": [
        "some_column = vaccine['people_fully_vaccinated']\n",
        "some_column"
      ],
      "metadata": {
        "id": "RlEiBDuS9EGT",
        "colab": {
          "base_uri": "https://localhost:8080/"
        },
        "outputId": "66c2f12d-50df-4376-bdfb-288746fbcbc7"
      },
      "execution_count": 12,
      "outputs": [
        {
          "output_type": "execute_result",
          "data": {
            "text/plain": [
              "0           NaN\n",
              "1           NaN\n",
              "2           NaN\n",
              "3           NaN\n",
              "4           NaN\n",
              "         ...   \n",
              "3614     7251.0\n",
              "3615    12988.0\n",
              "3616    19342.0\n",
              "3617    25433.0\n",
              "3618    32002.0\n",
              "Name: people_fully_vaccinated, Length: 3619, dtype: float64"
            ]
          },
          "metadata": {},
          "execution_count": 12
        }
      ]
    },
    {
      "cell_type": "markdown",
      "metadata": {
        "id": "I2QOrlxG_hwq"
      },
      "source": [
        "As we have a single columns here, we are not dealing with a DataFrame anymore but with a Series:"
      ]
    },
    {
      "cell_type": "markdown",
      "source": [
        "type(some_column)"
      ],
      "metadata": {
        "id": "lEKnBjNS-x8l"
      }
    },
    {
      "cell_type": "code",
      "source": [
        "type(some_column)"
      ],
      "metadata": {
        "id": "onr5TS6P9OHZ",
        "colab": {
          "base_uri": "https://localhost:8080/"
        },
        "outputId": "650d032e-5980-4e0d-c286-4cf74414d4a6"
      },
      "execution_count": 13,
      "outputs": [
        {
          "output_type": "execute_result",
          "data": {
            "text/plain": [
              "pandas.core.series.Series"
            ]
          },
          "metadata": {},
          "execution_count": 13
        }
      ]
    },
    {
      "cell_type": "markdown",
      "metadata": {
        "id": "qy1TSUsq_vjj"
      },
      "source": [
        "We won't explore much the Series object on its own in this course, but know that you can for example create a DataFrame from scratch by combining multiple Series.\n",
        "\n",
        "## What is underlying Pandas\n",
        "\n",
        "We see above that ```some_column``` is composed of and index (0, 1, 2 etc) and the corresponding values (NaN, 64.0, 64.0 etc.). If we want to do mathematics with those values, we don't really need the index and a list of numbers would be sufficient. We can obtain such a list by asking for the ```values``` of the series:"
      ]
    },
    {
      "cell_type": "markdown",
      "source": [
        "```actual_values = some_column.values\n",
        "actual_values\n",
        "```"
      ],
      "metadata": {
        "id": "kbW0VZx1_pap"
      }
    },
    {
      "cell_type": "code",
      "source": [
        ""
      ],
      "metadata": {
        "id": "2U7rOHOV9Tyy",
        "colab": {
          "base_uri": "https://localhost:8080/",
          "height": 172
        },
        "outputId": "100a432a-e2b0-4aa7-b53d-604038919095"
      },
      "execution_count": 18,
      "outputs": [
        {
          "output_type": "error",
          "ename": "NameError",
          "evalue": "ignored",
          "traceback": [
            "\u001b[0;31m---------------------------------------------------------------------------\u001b[0m",
            "\u001b[0;31mNameError\u001b[0m                                 Traceback (most recent call last)",
            "\u001b[0;32m<ipython-input-18-e6a2dd4ffca4>\u001b[0m in \u001b[0;36m<module>\u001b[0;34m()\u001b[0m\n\u001b[0;32m----> 1\u001b[0;31m \u001b[0mvalues\u001b[0m\u001b[0;34m(\u001b[0m\u001b[0msome_column\u001b[0m\u001b[0;34m)\u001b[0m\u001b[0;34m\u001b[0m\u001b[0;34m\u001b[0m\u001b[0m\n\u001b[0m",
            "\u001b[0;31mNameError\u001b[0m: name 'values' is not defined"
          ]
        }
      ]
    },
    {
      "cell_type": "markdown",
      "metadata": {
        "id": "HBOCZwuCAwR0"
      },
      "source": [
        "We see that the output is not just a simple Python list. It is in fact called an ```array```. If we ask for the type of this object, we get:"
      ]
    },
    {
      "cell_type": "markdown",
      "source": [
        "type(actual_values)"
      ],
      "metadata": {
        "id": "RDGVdnsuArRh"
      }
    },
    {
      "cell_type": "code",
      "source": [
        "type(actual_values)"
      ],
      "metadata": {
        "id": "IBDGquJE9bBq",
        "colab": {
          "base_uri": "https://localhost:8080/",
          "height": 172
        },
        "outputId": "7e7d93a4-fd00-4888-c616-28a4de8f21d1"
      },
      "execution_count": 15,
      "outputs": [
        {
          "output_type": "error",
          "ename": "NameError",
          "evalue": "ignored",
          "traceback": [
            "\u001b[0;31m---------------------------------------------------------------------------\u001b[0m",
            "\u001b[0;31mNameError\u001b[0m                                 Traceback (most recent call last)",
            "\u001b[0;32m<ipython-input-15-f3c7d3b65960>\u001b[0m in \u001b[0;36m<module>\u001b[0;34m()\u001b[0m\n\u001b[0;32m----> 1\u001b[0;31m \u001b[0mtype\u001b[0m\u001b[0;34m(\u001b[0m\u001b[0mactual_values\u001b[0m\u001b[0;34m)\u001b[0m\u001b[0;34m\u001b[0m\u001b[0;34m\u001b[0m\u001b[0m\n\u001b[0m",
            "\u001b[0;31mNameError\u001b[0m: name 'actual_values' is not defined"
          ]
        }
      ]
    },
    {
      "cell_type": "markdown",
      "metadata": {
        "id": "i8P0PD2ZA-Nt"
      },
      "source": [
        "The lists of values contained in Pandas DataFrame are in fact Numpy arrays. A large part of the computing logic in Pandas is inspired from Numpy, therefore we now make a detour to Numpy before coming back to DataFrames."
      ]
    },
    {
      "cell_type": "markdown",
      "source": [
        "## Exercise"
      ],
      "metadata": {
        "id": "cJesRq30VoQo"
      }
    },
    {
      "cell_type": "markdown",
      "metadata": {
        "id": "5Iosdk-tYtsd"
      },
      "source": [
        "\n",
        "1. In the Data folder on Ilias there is the data file 4ms_10 av_30 s_Absorbance_10-32-04-868.txt. Upload this file to a folder on your google drive. If you don't have a google account, make it now. Look at the file by clicking on it. Try to make sense of the data with the help of the metadata file also in the Ilias folder. \n",
        "\n",
        "2. Mount the file to this your notebook (example code below). The path and the file name must match the ones on your google drive, of course.\n"
      ]
    },
    {
      "cell_type": "code",
      "source": [
        "#from google.colab import drive\n",
        "#drive.mount('/content/drive')\n",
        "#path = '/content/drive/MyDrive/Courses/DSF-DC....' # To be adapted https://drive.google.com/drive/folders/1YCvcCnA5QzkO7IB5x8WiTY04XQZ7xpVA"
      ],
      "metadata": {
        "id": "QnCZvE5sfX3U"
      },
      "execution_count": null,
      "outputs": []
    },
    {
      "cell_type": "code",
      "source": [
        "from google.colab import drive\n",
        "drive.mount('/content/drive')\n",
        "path = '/content/drive/MyDrive/Data Science Fundamentals/Absorbance.txt' # To be adapted"
      ],
      "metadata": {
        "id": "DYR4iYYhI0gH",
        "colab": {
          "base_uri": "https://localhost:8080/"
        },
        "outputId": "6ed18ab2-ce2d-4ade-ab38-a6f8cef8b2f7"
      },
      "execution_count": 1,
      "outputs": [
        {
          "output_type": "stream",
          "name": "stdout",
          "text": [
            "Mounted at /content/drive\n"
          ]
        }
      ]
    },
    {
      "cell_type": "markdown",
      "source": [
        "3. Study and play with the code below. Try to understand based on the API description (https://pandas.pydata.org/docs/reference/api/pandas.read_csv.html). Hint: Use the header argument."
      ],
      "metadata": {
        "id": "bHMdX664RcQ9"
      }
    },
    {
      "cell_type": "code",
      "metadata": {
        "id": "jc8tXuIDYuX2"
      },
      "source": [
        "import pandas as pd\n",
        "df = pd.read_csv(path, delimiter='\\t', header=13)"
      ],
      "execution_count": 3,
      "outputs": []
    },
    {
      "cell_type": "markdown",
      "source": [
        "4. Study this dataset a bit with the df.head(), df.info() and df.describe() methods. The available metadata is [here](https://docs.google.com/document/d/1L6m4OFiCKSHlHlr4_4TFKLKHcJfIkiMhHtD3tcsxpD8/edit?usp=sharing)"
      ],
      "metadata": {
        "id": "V-hJAIi5R69m"
      }
    },
    {
      "cell_type": "code",
      "source": [
        "df.head()"
      ],
      "metadata": {
        "id": "mJ1eSjLTAB7n",
        "colab": {
          "base_uri": "https://localhost:8080/",
          "height": 386
        },
        "outputId": "1119e948-e6a9-4597-e322-489a441e35d2"
      },
      "execution_count": 4,
      "outputs": [
        {
          "output_type": "execute_result",
          "data": {
            "text/html": [
              "\n",
              "  <div id=\"df-1c2316c6-a1ae-4f8f-85d5-e18f0e4266a0\">\n",
              "    <div class=\"colab-df-container\">\n",
              "      <div>\n",
              "<style scoped>\n",
              "    .dataframe tbody tr th:only-of-type {\n",
              "        vertical-align: middle;\n",
              "    }\n",
              "\n",
              "    .dataframe tbody tr th {\n",
              "        vertical-align: top;\n",
              "    }\n",
              "\n",
              "    .dataframe thead th {\n",
              "        text-align: right;\n",
              "    }\n",
              "</style>\n",
              "<table border=\"1\" class=\"dataframe\">\n",
              "  <thead>\n",
              "    <tr style=\"text-align: right;\">\n",
              "      <th></th>\n",
              "      <th>Unnamed: 0</th>\n",
              "      <th>Unnamed: 1</th>\n",
              "      <th>316.6137</th>\n",
              "      <th>316.7492</th>\n",
              "      <th>316.8847</th>\n",
              "      <th>317.0203</th>\n",
              "      <th>317.1558</th>\n",
              "      <th>317.2913</th>\n",
              "      <th>317.4268</th>\n",
              "      <th>317.5623</th>\n",
              "      <th>317.6977</th>\n",
              "      <th>317.8332</th>\n",
              "      <th>317.9687</th>\n",
              "      <th>318.1042</th>\n",
              "      <th>318.2397</th>\n",
              "      <th>318.3751</th>\n",
              "      <th>318.5106</th>\n",
              "      <th>318.646</th>\n",
              "      <th>318.7815</th>\n",
              "      <th>318.9169</th>\n",
              "      <th>319.0524</th>\n",
              "      <th>319.1878</th>\n",
              "      <th>319.3232</th>\n",
              "      <th>319.4587</th>\n",
              "      <th>319.5941</th>\n",
              "      <th>319.7295</th>\n",
              "      <th>319.8649</th>\n",
              "      <th>320.0003</th>\n",
              "      <th>320.1358</th>\n",
              "      <th>320.2712</th>\n",
              "      <th>320.4065</th>\n",
              "      <th>320.5419</th>\n",
              "      <th>320.6773</th>\n",
              "      <th>320.8127</th>\n",
              "      <th>320.9481</th>\n",
              "      <th>321.0835</th>\n",
              "      <th>321.2188</th>\n",
              "      <th>321.3542</th>\n",
              "      <th>321.4896</th>\n",
              "      <th>321.6249</th>\n",
              "      <th>...</th>\n",
              "      <th>775.4085</th>\n",
              "      <th>775.5273</th>\n",
              "      <th>775.6461</th>\n",
              "      <th>775.7649</th>\n",
              "      <th>775.8836</th>\n",
              "      <th>776.0024</th>\n",
              "      <th>776.1212</th>\n",
              "      <th>776.24</th>\n",
              "      <th>776.3587</th>\n",
              "      <th>776.4775</th>\n",
              "      <th>776.5962</th>\n",
              "      <th>776.715</th>\n",
              "      <th>776.8337</th>\n",
              "      <th>776.9525</th>\n",
              "      <th>777.0712</th>\n",
              "      <th>777.1899</th>\n",
              "      <th>777.3087</th>\n",
              "      <th>777.4274</th>\n",
              "      <th>777.5461</th>\n",
              "      <th>777.6648</th>\n",
              "      <th>777.7835</th>\n",
              "      <th>777.9022</th>\n",
              "      <th>778.0209</th>\n",
              "      <th>778.1396</th>\n",
              "      <th>778.2583</th>\n",
              "      <th>778.377</th>\n",
              "      <th>778.4957</th>\n",
              "      <th>778.6143</th>\n",
              "      <th>778.733</th>\n",
              "      <th>778.8517</th>\n",
              "      <th>778.9703</th>\n",
              "      <th>779.089</th>\n",
              "      <th>779.2076</th>\n",
              "      <th>779.3263</th>\n",
              "      <th>779.4449</th>\n",
              "      <th>779.5636</th>\n",
              "      <th>779.6822</th>\n",
              "      <th>779.8008</th>\n",
              "      <th>779.9194</th>\n",
              "      <th>780.0381</th>\n",
              "    </tr>\n",
              "  </thead>\n",
              "  <tbody>\n",
              "    <tr>\n",
              "      <th>0</th>\n",
              "      <td>2018-10-25 10:32:04.789000</td>\n",
              "      <td>1540456324789</td>\n",
              "      <td>0.329672</td>\n",
              "      <td>0.329672</td>\n",
              "      <td>0.329672</td>\n",
              "      <td>0.090294</td>\n",
              "      <td>-0.716926</td>\n",
              "      <td>-1.829304</td>\n",
              "      <td>-0.686330</td>\n",
              "      <td>-0.428776</td>\n",
              "      <td>1.740363</td>\n",
              "      <td>-0.000000</td>\n",
              "      <td>0.495019</td>\n",
              "      <td>-0.054882</td>\n",
              "      <td>-0.00000</td>\n",
              "      <td>-0.000000</td>\n",
              "      <td>-0.478378</td>\n",
              "      <td>-0.092673</td>\n",
              "      <td>-0.0</td>\n",
              "      <td>0.172712</td>\n",
              "      <td>-0.153593</td>\n",
              "      <td>0.380834</td>\n",
              "      <td>0.547939</td>\n",
              "      <td>-0.000000</td>\n",
              "      <td>-0.112704</td>\n",
              "      <td>0.269431</td>\n",
              "      <td>-0.000000</td>\n",
              "      <td>0.402441</td>\n",
              "      <td>-0.000000</td>\n",
              "      <td>-0.000000</td>\n",
              "      <td>-0.000000</td>\n",
              "      <td>-0.020308</td>\n",
              "      <td>-0.000000</td>\n",
              "      <td>0.607509</td>\n",
              "      <td>-0.000000</td>\n",
              "      <td>0.250914</td>\n",
              "      <td>-0.790822</td>\n",
              "      <td>0.407966</td>\n",
              "      <td>-0.621516</td>\n",
              "      <td>-0.377167</td>\n",
              "      <td>...</td>\n",
              "      <td>-0.036456</td>\n",
              "      <td>-0.035688</td>\n",
              "      <td>-0.034940</td>\n",
              "      <td>-0.038391</td>\n",
              "      <td>-0.038846</td>\n",
              "      <td>-0.038413</td>\n",
              "      <td>-0.041153</td>\n",
              "      <td>-0.037331</td>\n",
              "      <td>-0.038670</td>\n",
              "      <td>-0.038662</td>\n",
              "      <td>-0.038429</td>\n",
              "      <td>-0.039760</td>\n",
              "      <td>-0.038206</td>\n",
              "      <td>-0.038891</td>\n",
              "      <td>-0.038710</td>\n",
              "      <td>-0.038267</td>\n",
              "      <td>-0.038163</td>\n",
              "      <td>-0.036252</td>\n",
              "      <td>-0.039213</td>\n",
              "      <td>-0.037831</td>\n",
              "      <td>-0.037478</td>\n",
              "      <td>-0.039245</td>\n",
              "      <td>-0.039212</td>\n",
              "      <td>-0.037823</td>\n",
              "      <td>-0.038343</td>\n",
              "      <td>-0.036600</td>\n",
              "      <td>-0.038325</td>\n",
              "      <td>-0.036159</td>\n",
              "      <td>-0.038942</td>\n",
              "      <td>-0.041108</td>\n",
              "      <td>-0.038483</td>\n",
              "      <td>-0.039623</td>\n",
              "      <td>-0.036920</td>\n",
              "      <td>-0.037309</td>\n",
              "      <td>-0.037299</td>\n",
              "      <td>-0.037476</td>\n",
              "      <td>-0.036856</td>\n",
              "      <td>-0.036853</td>\n",
              "      <td>-0.039100</td>\n",
              "      <td>-0.035545</td>\n",
              "    </tr>\n",
              "    <tr>\n",
              "      <th>1</th>\n",
              "      <td>2018-10-25 10:32:04.878000</td>\n",
              "      <td>1540456324878</td>\n",
              "      <td>-0.044412</td>\n",
              "      <td>-0.044412</td>\n",
              "      <td>-0.044412</td>\n",
              "      <td>0.157632</td>\n",
              "      <td>-0.672423</td>\n",
              "      <td>-2.183981</td>\n",
              "      <td>-0.492421</td>\n",
              "      <td>-0.000000</td>\n",
              "      <td>-0.695800</td>\n",
              "      <td>-0.000000</td>\n",
              "      <td>0.592280</td>\n",
              "      <td>-0.375559</td>\n",
              "      <td>-0.00000</td>\n",
              "      <td>-0.314073</td>\n",
              "      <td>-0.007488</td>\n",
              "      <td>-0.000000</td>\n",
              "      <td>-0.0</td>\n",
              "      <td>-0.237182</td>\n",
              "      <td>1.583722</td>\n",
              "      <td>0.193000</td>\n",
              "      <td>0.084848</td>\n",
              "      <td>13.594523</td>\n",
              "      <td>-0.648721</td>\n",
              "      <td>-0.130030</td>\n",
              "      <td>-0.446490</td>\n",
              "      <td>-0.260711</td>\n",
              "      <td>-1.017033</td>\n",
              "      <td>-1.892095</td>\n",
              "      <td>-0.000000</td>\n",
              "      <td>0.364334</td>\n",
              "      <td>-0.335792</td>\n",
              "      <td>-0.000000</td>\n",
              "      <td>0.038782</td>\n",
              "      <td>0.311405</td>\n",
              "      <td>-0.534160</td>\n",
              "      <td>0.925651</td>\n",
              "      <td>-0.367482</td>\n",
              "      <td>-0.000000</td>\n",
              "      <td>...</td>\n",
              "      <td>-0.035232</td>\n",
              "      <td>-0.036579</td>\n",
              "      <td>-0.036452</td>\n",
              "      <td>-0.039194</td>\n",
              "      <td>-0.037604</td>\n",
              "      <td>-0.039715</td>\n",
              "      <td>-0.040819</td>\n",
              "      <td>-0.038924</td>\n",
              "      <td>-0.037685</td>\n",
              "      <td>-0.037591</td>\n",
              "      <td>-0.037728</td>\n",
              "      <td>-0.041512</td>\n",
              "      <td>-0.037832</td>\n",
              "      <td>-0.039280</td>\n",
              "      <td>-0.038821</td>\n",
              "      <td>-0.037591</td>\n",
              "      <td>-0.036860</td>\n",
              "      <td>-0.036574</td>\n",
              "      <td>-0.039089</td>\n",
              "      <td>-0.039673</td>\n",
              "      <td>-0.038825</td>\n",
              "      <td>-0.039768</td>\n",
              "      <td>-0.037161</td>\n",
              "      <td>-0.036756</td>\n",
              "      <td>-0.038481</td>\n",
              "      <td>-0.036805</td>\n",
              "      <td>-0.036087</td>\n",
              "      <td>-0.038862</td>\n",
              "      <td>-0.039666</td>\n",
              "      <td>-0.038127</td>\n",
              "      <td>-0.039428</td>\n",
              "      <td>-0.038486</td>\n",
              "      <td>-0.037309</td>\n",
              "      <td>-0.036357</td>\n",
              "      <td>-0.037289</td>\n",
              "      <td>-0.038728</td>\n",
              "      <td>-0.037214</td>\n",
              "      <td>-0.036902</td>\n",
              "      <td>-0.040210</td>\n",
              "      <td>-0.038165</td>\n",
              "    </tr>\n",
              "    <tr>\n",
              "      <th>2</th>\n",
              "      <td>2018-10-25 10:32:04.962000</td>\n",
              "      <td>1540456324962</td>\n",
              "      <td>0.338219</td>\n",
              "      <td>0.338219</td>\n",
              "      <td>0.338219</td>\n",
              "      <td>0.330993</td>\n",
              "      <td>-0.879836</td>\n",
              "      <td>-0.000000</td>\n",
              "      <td>-0.559845</td>\n",
              "      <td>-0.000000</td>\n",
              "      <td>-0.275276</td>\n",
              "      <td>0.627907</td>\n",
              "      <td>-0.000000</td>\n",
              "      <td>-0.235321</td>\n",
              "      <td>-0.00000</td>\n",
              "      <td>-0.000000</td>\n",
              "      <td>-0.000000</td>\n",
              "      <td>0.087267</td>\n",
              "      <td>-0.0</td>\n",
              "      <td>-0.026329</td>\n",
              "      <td>0.242059</td>\n",
              "      <td>0.909004</td>\n",
              "      <td>-0.000000</td>\n",
              "      <td>0.204270</td>\n",
              "      <td>-0.797165</td>\n",
              "      <td>-0.000000</td>\n",
              "      <td>-0.124939</td>\n",
              "      <td>-0.297885</td>\n",
              "      <td>-0.843025</td>\n",
              "      <td>-1.122216</td>\n",
              "      <td>-0.000000</td>\n",
              "      <td>0.410835</td>\n",
              "      <td>-0.000000</td>\n",
              "      <td>-0.000000</td>\n",
              "      <td>0.036402</td>\n",
              "      <td>0.056663</td>\n",
              "      <td>-0.378063</td>\n",
              "      <td>0.970397</td>\n",
              "      <td>-0.455239</td>\n",
              "      <td>0.943963</td>\n",
              "      <td>...</td>\n",
              "      <td>-0.035684</td>\n",
              "      <td>-0.035976</td>\n",
              "      <td>-0.036098</td>\n",
              "      <td>-0.039482</td>\n",
              "      <td>-0.038737</td>\n",
              "      <td>-0.036809</td>\n",
              "      <td>-0.039064</td>\n",
              "      <td>-0.036607</td>\n",
              "      <td>-0.036565</td>\n",
              "      <td>-0.037023</td>\n",
              "      <td>-0.038640</td>\n",
              "      <td>-0.040766</td>\n",
              "      <td>-0.037649</td>\n",
              "      <td>-0.041084</td>\n",
              "      <td>-0.039750</td>\n",
              "      <td>-0.034009</td>\n",
              "      <td>-0.037304</td>\n",
              "      <td>-0.036015</td>\n",
              "      <td>-0.039145</td>\n",
              "      <td>-0.038882</td>\n",
              "      <td>-0.037131</td>\n",
              "      <td>-0.039078</td>\n",
              "      <td>-0.040325</td>\n",
              "      <td>-0.035622</td>\n",
              "      <td>-0.037185</td>\n",
              "      <td>-0.035733</td>\n",
              "      <td>-0.036353</td>\n",
              "      <td>-0.036616</td>\n",
              "      <td>-0.040423</td>\n",
              "      <td>-0.037648</td>\n",
              "      <td>-0.037725</td>\n",
              "      <td>-0.037534</td>\n",
              "      <td>-0.036560</td>\n",
              "      <td>-0.036152</td>\n",
              "      <td>-0.036554</td>\n",
              "      <td>-0.036875</td>\n",
              "      <td>-0.037351</td>\n",
              "      <td>-0.036746</td>\n",
              "      <td>-0.038686</td>\n",
              "      <td>-0.036903</td>\n",
              "    </tr>\n",
              "    <tr>\n",
              "      <th>3</th>\n",
              "      <td>2018-10-25 10:32:05.046000</td>\n",
              "      <td>1540456325046</td>\n",
              "      <td>-0.049682</td>\n",
              "      <td>-0.049682</td>\n",
              "      <td>-0.049682</td>\n",
              "      <td>0.519086</td>\n",
              "      <td>-0.681150</td>\n",
              "      <td>-0.000000</td>\n",
              "      <td>-0.417230</td>\n",
              "      <td>-0.000000</td>\n",
              "      <td>-0.140451</td>\n",
              "      <td>-0.000000</td>\n",
              "      <td>0.943584</td>\n",
              "      <td>-0.058364</td>\n",
              "      <td>-0.00000</td>\n",
              "      <td>-0.000000</td>\n",
              "      <td>-0.000000</td>\n",
              "      <td>-0.000000</td>\n",
              "      <td>-0.0</td>\n",
              "      <td>-0.000000</td>\n",
              "      <td>0.310275</td>\n",
              "      <td>-0.038019</td>\n",
              "      <td>0.574786</td>\n",
              "      <td>-0.000000</td>\n",
              "      <td>-0.909576</td>\n",
              "      <td>-0.000000</td>\n",
              "      <td>-0.555913</td>\n",
              "      <td>-0.104543</td>\n",
              "      <td>-0.000000</td>\n",
              "      <td>-0.000000</td>\n",
              "      <td>0.606357</td>\n",
              "      <td>0.060972</td>\n",
              "      <td>-0.000000</td>\n",
              "      <td>-0.000000</td>\n",
              "      <td>-0.000000</td>\n",
              "      <td>-0.022696</td>\n",
              "      <td>-0.635722</td>\n",
              "      <td>0.511613</td>\n",
              "      <td>-0.299296</td>\n",
              "      <td>-0.000000</td>\n",
              "      <td>...</td>\n",
              "      <td>-0.034932</td>\n",
              "      <td>-0.036576</td>\n",
              "      <td>-0.035704</td>\n",
              "      <td>-0.039335</td>\n",
              "      <td>-0.040506</td>\n",
              "      <td>-0.038523</td>\n",
              "      <td>-0.041140</td>\n",
              "      <td>-0.038054</td>\n",
              "      <td>-0.038861</td>\n",
              "      <td>-0.038303</td>\n",
              "      <td>-0.035774</td>\n",
              "      <td>-0.039214</td>\n",
              "      <td>-0.035770</td>\n",
              "      <td>-0.037952</td>\n",
              "      <td>-0.038415</td>\n",
              "      <td>-0.035703</td>\n",
              "      <td>-0.037034</td>\n",
              "      <td>-0.035988</td>\n",
              "      <td>-0.039093</td>\n",
              "      <td>-0.037155</td>\n",
              "      <td>-0.037300</td>\n",
              "      <td>-0.037496</td>\n",
              "      <td>-0.036852</td>\n",
              "      <td>-0.035685</td>\n",
              "      <td>-0.036023</td>\n",
              "      <td>-0.034089</td>\n",
              "      <td>-0.036316</td>\n",
              "      <td>-0.037612</td>\n",
              "      <td>-0.039887</td>\n",
              "      <td>-0.038884</td>\n",
              "      <td>-0.037613</td>\n",
              "      <td>-0.037168</td>\n",
              "      <td>-0.036369</td>\n",
              "      <td>-0.034549</td>\n",
              "      <td>-0.036252</td>\n",
              "      <td>-0.037948</td>\n",
              "      <td>-0.036713</td>\n",
              "      <td>-0.035706</td>\n",
              "      <td>-0.038203</td>\n",
              "      <td>-0.036822</td>\n",
              "    </tr>\n",
              "    <tr>\n",
              "      <th>4</th>\n",
              "      <td>2018-10-25 10:32:05.129000</td>\n",
              "      <td>1540456325129</td>\n",
              "      <td>0.335086</td>\n",
              "      <td>0.335086</td>\n",
              "      <td>0.335086</td>\n",
              "      <td>-0.041393</td>\n",
              "      <td>-0.000000</td>\n",
              "      <td>-1.802774</td>\n",
              "      <td>-0.510417</td>\n",
              "      <td>-0.000000</td>\n",
              "      <td>-0.000000</td>\n",
              "      <td>-0.000000</td>\n",
              "      <td>1.055558</td>\n",
              "      <td>-0.208559</td>\n",
              "      <td>-0.22812</td>\n",
              "      <td>-0.000000</td>\n",
              "      <td>-0.000000</td>\n",
              "      <td>-0.000000</td>\n",
              "      <td>-0.0</td>\n",
              "      <td>-0.279289</td>\n",
              "      <td>-0.138342</td>\n",
              "      <td>0.367747</td>\n",
              "      <td>-0.136349</td>\n",
              "      <td>-0.185214</td>\n",
              "      <td>-0.000000</td>\n",
              "      <td>-0.000000</td>\n",
              "      <td>0.412180</td>\n",
              "      <td>0.181951</td>\n",
              "      <td>-1.092253</td>\n",
              "      <td>-0.000000</td>\n",
              "      <td>0.152900</td>\n",
              "      <td>0.254004</td>\n",
              "      <td>-0.202826</td>\n",
              "      <td>-0.000000</td>\n",
              "      <td>-0.000000</td>\n",
              "      <td>-0.071186</td>\n",
              "      <td>-0.868923</td>\n",
              "      <td>0.700776</td>\n",
              "      <td>0.123212</td>\n",
              "      <td>0.599467</td>\n",
              "      <td>...</td>\n",
              "      <td>-0.035762</td>\n",
              "      <td>-0.035980</td>\n",
              "      <td>-0.037206</td>\n",
              "      <td>-0.038248</td>\n",
              "      <td>-0.039307</td>\n",
              "      <td>-0.037769</td>\n",
              "      <td>-0.041217</td>\n",
              "      <td>-0.037200</td>\n",
              "      <td>-0.038106</td>\n",
              "      <td>-0.036570</td>\n",
              "      <td>-0.037883</td>\n",
              "      <td>-0.041302</td>\n",
              "      <td>-0.036247</td>\n",
              "      <td>-0.040564</td>\n",
              "      <td>-0.036676</td>\n",
              "      <td>-0.036895</td>\n",
              "      <td>-0.038842</td>\n",
              "      <td>-0.037443</td>\n",
              "      <td>-0.038898</td>\n",
              "      <td>-0.036531</td>\n",
              "      <td>-0.038322</td>\n",
              "      <td>-0.040999</td>\n",
              "      <td>-0.039452</td>\n",
              "      <td>-0.036181</td>\n",
              "      <td>-0.036519</td>\n",
              "      <td>-0.035871</td>\n",
              "      <td>-0.034136</td>\n",
              "      <td>-0.035969</td>\n",
              "      <td>-0.039828</td>\n",
              "      <td>-0.039577</td>\n",
              "      <td>-0.040919</td>\n",
              "      <td>-0.038288</td>\n",
              "      <td>-0.035840</td>\n",
              "      <td>-0.035638</td>\n",
              "      <td>-0.039504</td>\n",
              "      <td>-0.040093</td>\n",
              "      <td>-0.039953</td>\n",
              "      <td>-0.037656</td>\n",
              "      <td>-0.038082</td>\n",
              "      <td>-0.035900</td>\n",
              "    </tr>\n",
              "  </tbody>\n",
              "</table>\n",
              "<p>5 rows × 3650 columns</p>\n",
              "</div>\n",
              "      <button class=\"colab-df-convert\" onclick=\"convertToInteractive('df-1c2316c6-a1ae-4f8f-85d5-e18f0e4266a0')\"\n",
              "              title=\"Convert this dataframe to an interactive table.\"\n",
              "              style=\"display:none;\">\n",
              "        \n",
              "  <svg xmlns=\"http://www.w3.org/2000/svg\" height=\"24px\"viewBox=\"0 0 24 24\"\n",
              "       width=\"24px\">\n",
              "    <path d=\"M0 0h24v24H0V0z\" fill=\"none\"/>\n",
              "    <path d=\"M18.56 5.44l.94 2.06.94-2.06 2.06-.94-2.06-.94-.94-2.06-.94 2.06-2.06.94zm-11 1L8.5 8.5l.94-2.06 2.06-.94-2.06-.94L8.5 2.5l-.94 2.06-2.06.94zm10 10l.94 2.06.94-2.06 2.06-.94-2.06-.94-.94-2.06-.94 2.06-2.06.94z\"/><path d=\"M17.41 7.96l-1.37-1.37c-.4-.4-.92-.59-1.43-.59-.52 0-1.04.2-1.43.59L10.3 9.45l-7.72 7.72c-.78.78-.78 2.05 0 2.83L4 21.41c.39.39.9.59 1.41.59.51 0 1.02-.2 1.41-.59l7.78-7.78 2.81-2.81c.8-.78.8-2.07 0-2.86zM5.41 20L4 18.59l7.72-7.72 1.47 1.35L5.41 20z\"/>\n",
              "  </svg>\n",
              "      </button>\n",
              "      \n",
              "  <style>\n",
              "    .colab-df-container {\n",
              "      display:flex;\n",
              "      flex-wrap:wrap;\n",
              "      gap: 12px;\n",
              "    }\n",
              "\n",
              "    .colab-df-convert {\n",
              "      background-color: #E8F0FE;\n",
              "      border: none;\n",
              "      border-radius: 50%;\n",
              "      cursor: pointer;\n",
              "      display: none;\n",
              "      fill: #1967D2;\n",
              "      height: 32px;\n",
              "      padding: 0 0 0 0;\n",
              "      width: 32px;\n",
              "    }\n",
              "\n",
              "    .colab-df-convert:hover {\n",
              "      background-color: #E2EBFA;\n",
              "      box-shadow: 0px 1px 2px rgba(60, 64, 67, 0.3), 0px 1px 3px 1px rgba(60, 64, 67, 0.15);\n",
              "      fill: #174EA6;\n",
              "    }\n",
              "\n",
              "    [theme=dark] .colab-df-convert {\n",
              "      background-color: #3B4455;\n",
              "      fill: #D2E3FC;\n",
              "    }\n",
              "\n",
              "    [theme=dark] .colab-df-convert:hover {\n",
              "      background-color: #434B5C;\n",
              "      box-shadow: 0px 1px 3px 1px rgba(0, 0, 0, 0.15);\n",
              "      filter: drop-shadow(0px 1px 2px rgba(0, 0, 0, 0.3));\n",
              "      fill: #FFFFFF;\n",
              "    }\n",
              "  </style>\n",
              "\n",
              "      <script>\n",
              "        const buttonEl =\n",
              "          document.querySelector('#df-1c2316c6-a1ae-4f8f-85d5-e18f0e4266a0 button.colab-df-convert');\n",
              "        buttonEl.style.display =\n",
              "          google.colab.kernel.accessAllowed ? 'block' : 'none';\n",
              "\n",
              "        async function convertToInteractive(key) {\n",
              "          const element = document.querySelector('#df-1c2316c6-a1ae-4f8f-85d5-e18f0e4266a0');\n",
              "          const dataTable =\n",
              "            await google.colab.kernel.invokeFunction('convertToInteractive',\n",
              "                                                     [key], {});\n",
              "          if (!dataTable) return;\n",
              "\n",
              "          const docLinkHtml = 'Like what you see? Visit the ' +\n",
              "            '<a target=\"_blank\" href=https://colab.research.google.com/notebooks/data_table.ipynb>data table notebook</a>'\n",
              "            + ' to learn more about interactive tables.';\n",
              "          element.innerHTML = '';\n",
              "          dataTable['output_type'] = 'display_data';\n",
              "          await google.colab.output.renderOutput(dataTable, element);\n",
              "          const docLink = document.createElement('div');\n",
              "          docLink.innerHTML = docLinkHtml;\n",
              "          element.appendChild(docLink);\n",
              "        }\n",
              "      </script>\n",
              "    </div>\n",
              "  </div>\n",
              "  "
            ],
            "text/plain": [
              "                   Unnamed: 0     Unnamed: 1  ...  779.9194  780.0381\n",
              "0  2018-10-25 10:32:04.789000  1540456324789  ... -0.039100 -0.035545\n",
              "1  2018-10-25 10:32:04.878000  1540456324878  ... -0.040210 -0.038165\n",
              "2  2018-10-25 10:32:04.962000  1540456324962  ... -0.038686 -0.036903\n",
              "3  2018-10-25 10:32:05.046000  1540456325046  ... -0.038203 -0.036822\n",
              "4  2018-10-25 10:32:05.129000  1540456325129  ... -0.038082 -0.035900\n",
              "\n",
              "[5 rows x 3650 columns]"
            ]
          },
          "metadata": {},
          "execution_count": 4
        }
      ]
    },
    {
      "cell_type": "code",
      "source": [
        ""
      ],
      "metadata": {
        "id": "P0Dw8PC2BIjm"
      },
      "execution_count": null,
      "outputs": []
    },
    {
      "cell_type": "code",
      "source": [
        ""
      ],
      "metadata": {
        "id": "JflZErgxLI8K"
      },
      "execution_count": null,
      "outputs": []
    },
    {
      "cell_type": "markdown",
      "source": [
        "How big is the dataset? How many rows, how many columns, how space in the memory? The data are spectral lines from some chemistry experiment with some other information in the first four columns. We will come back to this dataset later.  "
      ],
      "metadata": {
        "id": "CL96e1h-SXh6"
      }
    },
    {
      "cell_type": "markdown",
      "source": [
        "5. Plot some columns."
      ],
      "metadata": {
        "id": "1HjPQjXGS74M"
      }
    },
    {
      "cell_type": "code",
      "source": [
        "#df[317.4268].hist()"
      ],
      "metadata": {
        "id": "Bo0523KXPuUO"
      },
      "execution_count": 8,
      "outputs": []
    },
    {
      "cell_type": "code",
      "source": [
        "df['317.4268'].hist()"
      ],
      "metadata": {
        "id": "b4C_XMGmQYRI",
        "colab": {
          "base_uri": "https://localhost:8080/",
          "height": 283
        },
        "outputId": "69d73371-cde3-4ae8-9507-98bfce935e80"
      },
      "execution_count": 9,
      "outputs": [
        {
          "output_type": "execute_result",
          "data": {
            "text/plain": [
              "<matplotlib.axes._subplots.AxesSubplot at 0x7ff5a1588390>"
            ]
          },
          "metadata": {},
          "execution_count": 9
        },
        {
          "output_type": "display_data",
          "data": {
            "image/png": "[encoded data removed]",
            "text/plain": [
              "<Figure size 432x288 with 1 Axes>"
            ]
          },
          "metadata": {
            "needs_background": "light"
          }
        }
      ]
    },
    {
      "cell_type": "markdown",
      "source": [
        "6. Check out other pandas read methods here: https://pandas.pydata.org/docs/reference/io.html"
      ],
      "metadata": {
        "id": "Dh4ypNVEYsqq"
      }
    },
    {
      "cell_type": "code",
      "source": [
        ""
      ],
      "metadata": {
        "id": "sfrQGNjc20L0"
      },
      "execution_count": null,
      "outputs": []
    }
  ]
}